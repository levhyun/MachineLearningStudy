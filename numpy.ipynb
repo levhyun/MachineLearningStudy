{
 "cells": [
  {
   "cell_type": "code",
   "execution_count": 84,
   "id": "24be5576",
   "metadata": {
    "scrolled": true
   },
   "outputs": [],
   "source": [
    "import numpy as np"
   ]
  },
  {
   "cell_type": "code",
   "execution_count": 42,
   "id": "70ba1203",
   "metadata": {},
   "outputs": [],
   "source": [
    "arr1 = np.array([1,2,3]) # 1차원 배열 -> []\n",
    "arr2 = np.array([[1,2,3],[1,2,3]]) # 2차원 배열 -> [[]]\n",
    "arr3 = np.array([[[1,2,3,],[1,2,3]],[[1,2,3,],[1,2,3]]]) # 3차원 배열 -> [[[]]]"
   ]
  },
  {
   "cell_type": "code",
   "execution_count": 57,
   "id": "a683b823",
   "metadata": {},
   "outputs": [
    {
     "name": "stdout",
     "output_type": "stream",
     "text": [
      "arr1 배열 형태:(3,)\n",
      "arr2 배열 형태:(2, 3)\n",
      "arr 배열 형태:(2, 2, 3)\n",
      "\n"
     ]
    }
   ],
   "source": [
    "# 배열형태(shape)\n",
    "\n",
    "print('arr1 배열 형태:{}\\narr2 배열 형태:{}\\narr 배열 형태:{}\\n'.format(arr1.shape,arr2.shape,arr3.shape))"
   ]
  },
  {
   "cell_type": "code",
   "execution_count": 58,
   "id": "692311a3",
   "metadata": {},
   "outputs": [
    {
     "name": "stdout",
     "output_type": "stream",
     "text": [
      "arr1:1차원\n",
      "arr2:2차원\n",
      "arr3:3차원\n"
     ]
    }
   ],
   "source": [
    "# 배열차원(ndim)\n",
    "\n",
    "print('arr1:{}차원\\narr2:{}차원\\narr3:{}차원'.format(arr1.ndim,arr2.ndim,arr3.ndim))"
   ]
  },
  {
   "cell_type": "code",
   "execution_count": 45,
   "id": "87ce0993",
   "metadata": {},
   "outputs": [],
   "source": [
    "list = [1,2,3]\n",
    "array = np.array([1,2,3])"
   ]
  },
  {
   "cell_type": "code",
   "execution_count": 59,
   "id": "43ad1731",
   "metadata": {},
   "outputs": [
    {
     "name": "stdout",
     "output_type": "stream",
     "text": [
      "<class 'list'>\n",
      "<class 'numpy.ndarray'>\n",
      "array = [1 2 3] \n",
      "array 타입 : int32\n"
     ]
    }
   ],
   "source": [
    "# 데이터 타입(dtype)\n",
    "\n",
    "print(type(list))\n",
    "print(type(array))\n",
    "print(\"array =\",array,\"\\narray 타입 :\",array.dtype)"
   ]
  },
  {
   "cell_type": "code",
   "execution_count": 49,
   "id": "dd4467ec",
   "metadata": {},
   "outputs": [],
   "source": [
    "int_arr = np.array([1,2,3])\n",
    "float_arr = int_arr.astype('float64')"
   ]
  },
  {
   "cell_type": "code",
   "execution_count": 60,
   "id": "6461b20e",
   "metadata": {},
   "outputs": [
    {
     "name": "stdout",
     "output_type": "stream",
     "text": [
      "[1. 2. 3.] float64\n"
     ]
    }
   ],
   "source": [
    "# 데이터 타입 변환(astype)\n",
    "\n",
    "print(float_arr,float_arr.dtype)"
   ]
  },
  {
   "cell_type": "code",
   "execution_count": 61,
   "id": "a878bb0b",
   "metadata": {},
   "outputs": [
    {
     "name": "stdout",
     "output_type": "stream",
     "text": [
      "[ 0  1  2  3  4  5  6  7  8  9 10 11 12 13 14 15 16 17 18 19]\n"
     ]
    }
   ],
   "source": [
    "# 데이터 순차적 삽입 - 범위지정(stop값)\n",
    "\n",
    "s_arr = np.arange(20) \n",
    "# 배열명 = arange(인자값) -> 배열에 0부터 arange함수의 인자값-1 까지 순차적으로 ndarray의 데이터 값으로 변환하여 삽입\n",
    "print(s_arr)"
   ]
  },
  {
   "cell_type": "code",
   "execution_count": 54,
   "id": "3404ae61",
   "metadata": {},
   "outputs": [
    {
     "name": "stdout",
     "output_type": "stream",
     "text": [
      "[2 3 4]\n"
     ]
    }
   ],
   "source": [
    "# 데이터 순차적 삽입 - 범위지정(start값,stop값)\n",
    "\n",
    "s_arr2 = np.arange(2,5)\n",
    "# 배열명 = arange(인자값1,인자값2) -> 배열에 arange함수의 인자값1부터 인자값2-1 까지 순차적으로 ndarray의 데이터 값으로 변환하여 삽입\n",
    "print(s_arr2)"
   ]
  },
  {
   "cell_type": "code",
   "execution_count": 4,
   "id": "271a2e66",
   "metadata": {},
   "outputs": [
    {
     "name": "stdout",
     "output_type": "stream",
     "text": [
      "[[0 0]\n",
      " [0 0]\n",
      " [0 0]]\n"
     ]
    }
   ],
   "source": [
    "# 0으로 채워진 튜플 생성\n",
    "\n",
    "zero_array = np.zeros((3,2), dtype='int32') -> [ [0,0], [0,0], [0,0] ]\n",
    "print(zero_array)"
   ]
  },
  {
   "cell_type": "code",
   "execution_count": 8,
   "id": "1165d0da",
   "metadata": {},
   "outputs": [
    {
     "name": "stdout",
     "output_type": "stream",
     "text": [
      "[one_array]\n",
      " [[1. 1.]\n",
      " [1. 1.]\n",
      " [1. 1.]] \n",
      "type :  float64 \n",
      "\n",
      "[one_array2]\n",
      " [[1 1]\n",
      " [1 1]\n",
      " [1 1]] \n",
      "type :  int64\n"
     ]
    }
   ],
   "source": [
    "# 1로 채워진 튜플 생성\n",
    "\n",
    "one_array = np.ones((3,2))\n",
    "# 함수 인자로 dtype를 지정하지 않으면 float64형태로 튜플 생성\n",
    "one_array2 = np.ones((3,2), dtype='int64')\n",
    "print(\"[one_array]\\n\", one_array, \"\\ntype : \", one_array.dtype, \"\\n\")\n",
    "print(\"[one_array2]\\n\", one_array2, \"\\ntype : \", one_array2.dtype)"
   ]
  },
  {
   "cell_type": "code",
   "execution_count": 31,
   "id": "549fcf6f",
   "metadata": {},
   "outputs": [
    {
     "name": "stdout",
     "output_type": "stream",
     "text": [
      "1차원 arr:\n",
      " [0 1 2 3 4 5 6 7 8 9]\n",
      "\n",
      "2차원 arr:\n",
      " [[0 1 2 3 4]\n",
      " [5 6 7 8 9]]\n",
      "\n",
      "2차원 arr:\n",
      " [[0 1]\n",
      " [2 3]\n",
      " [4 5]\n",
      " [6 7]\n",
      " [8 9]]\n",
      "\n",
      "2차원 arr:\n",
      " [[0 1 2 3 4]\n",
      " [5 6 7 8 9]]\n",
      "\n",
      "List:\n",
      "[[0, 1, 2, 3, 4], [5, 6, 7, 8, 9]]\n"
     ]
    }
   ],
   "source": [
    "# 차원 변경\n",
    "\n",
    "arr = np.arange(10)\n",
    "print(f'{arr.ndim}차원 arr:\\n',arr)\n",
    "\n",
    "arr2 = arr.reshape(2,5)\n",
    "print(f'\\n{arr2.ndim}차원 arr:\\n',arr2)\n",
    "\n",
    "arr3 = arr.reshape(5,2)\n",
    "print(f'\\n{arr3.ndim}차원 arr:\\n',arr3)\n",
    "\n",
    "arr4 = arr.reshape(-1,5)\n",
    "# -1을 인자로 적용 -> 원래 array와 호환되는 차원으로 자동 변환\n",
    "print(f'\\n{arr4.ndim}차원 arr:\\n',arr4)\n",
    "\n",
    "# 리스트 자료형으로 변환\n",
    "list = arr4.tolist()\n",
    "print(f'List:\\n{list}')"
   ]
  },
  {
   "cell_type": "code",
   "execution_count": 67,
   "id": "49763f00",
   "metadata": {},
   "outputs": [
    {
     "name": "stdout",
     "output_type": "stream",
     "text": [
      "[0 1 2 3 4 5 6 7 8 9]\n",
      "arr[0]: 0\n",
      "[수정] arr[0]: 1\n",
      "\n",
      "2차원:\n",
      "[[0 1 2 3 4]\n",
      " [5 6 7 8 9]]\n",
      "arr2[0,0]: 0\n",
      "[수정] arr2[0,0]: 2\n"
     ]
    }
   ],
   "source": [
    "# 1차원 단일 값 추출\n",
    "\n",
    "arr = np.arange(0,10)\n",
    "print(arr)\n",
    "print(f'arr[0]: {arr[0]}')\n",
    "# index 번호{시작 : 0, 끝 : 9}\n",
    "\n",
    "# 수정\n",
    "arr[0] = 1\n",
    "print(f'[수정] arr[0]: {arr[0]}')\n",
    "\n",
    "\n",
    "# 2차원 단일 값 추출\n",
    "arr2 = np.arange(0,10)\n",
    "arr2 = arr2.reshape(2,5)\n",
    "print(f'\\n2차원:\\n{arr2}')\n",
    "print(f'arr2[0,0]: {arr2[0,0]}')\n",
    "\n",
    "# 수정\n",
    "arr2[0,0] = 2\n",
    "print(f'[수정] arr2[0,0]: {arr2[0,0]}')"
   ]
  },
  {
   "cell_type": "code",
   "execution_count": 66,
   "id": "de0cf94f",
   "metadata": {},
   "outputs": [
    {
     "name": "stdout",
     "output_type": "stream",
     "text": [
      "[0 1 2 3 4 5 6 7 8 9]\n",
      "arr[2:5]: [2 3 4]\n",
      "arr[:5]: [0 1 2 3 4]\n",
      "arr[:]: [0 1 2 3 4 5 6 7 8 9]\n",
      "\n",
      "2차원:\n",
      "[[ 0  1  2  3  4]\n",
      " [ 5  6  7  8  9]\n",
      " [10 11 12 13 14]\n",
      " [15 16 17 18 19]\n",
      " [20 21 22 23 24]]\n",
      "arr2[2:4,0:1]:\n",
      "[[10 11]\n",
      " [15 16]]\n",
      "\n",
      "row=0 : [0 1 2 3 4]\n"
     ]
    }
   ],
   "source": [
    "#슬라이싱\n",
    "\n",
    "# 1차원 다중 값 추출\n",
    "\n",
    "arr = np.arange(0,10)\n",
    "print(arr)\n",
    "print(f'arr[2:5]: {arr[2:5]}')\n",
    "\n",
    "print(f'arr[:5]: {arr[:5]}')\n",
    "print(f'arr[:]: {arr[:]}')\n",
    "# 슬라이싱 기호인 ':' 사이의 시작, 종료 인덱스는 생략 가능\n",
    "\n",
    "\n",
    "# 2차원 다중 값 추출\n",
    "\n",
    "arr2 = np.arange(0,25)\n",
    "arr2 = arr2.reshape(5,5)\n",
    "print(f'\\n2차원:\\n{arr2}')\n",
    "print(f'arr2[2:4,0:1]:\\n{arr2[2:4,0:2]}')\n",
    "\n",
    "print(f'\\nrow=0 : {arr2[0]}')\n",
    "# row가 0인 값들 출력"
   ]
  },
  {
   "cell_type": "code",
   "execution_count": 110,
   "id": "072c9af1",
   "metadata": {},
   "outputs": [
    {
     "name": "stdout",
     "output_type": "stream",
     "text": [
      "[1 2 3 4 5 6 7 8 9]\n",
      "arr[arr > 5] : [6 7 8 9]\n",
      "\n",
      "boolArr : [False False False False False  True  True  True  True]\n",
      "arr[boolArr] : [6 7 8 9]\n",
      "\n",
      "numArr : [5 6 7 8]\n",
      "arr[numArr] : [6 7 8 9]\n"
     ]
    }
   ],
   "source": [
    "# 불린 인덱싱\n",
    "\n",
    "arr = np.arange(1,10)\n",
    "print(arr)\n",
    "\n",
    "print('arr[arr > 5] :',arr[arr > 5])\n",
    "\n",
    "boolArr = np.array([False, False, False, False, False, True, True, True, True])\n",
    "print('\\nboolArr :',boolArr)\n",
    "print('arr[boolArr] :', arr[boolArr])\n",
    "\n",
    "numArr = np.array([5,6,7,8])\n",
    "print('\\nnumArr :',numArr)\n",
    "print('arr[numArr] :', arr[numArr])"
   ]
  },
  {
   "cell_type": "code",
   "execution_count": null,
   "id": "95c9f65e",
   "metadata": {},
   "outputs": [],
   "source": []
  },
  {
   "cell_type": "code",
   "execution_count": null,
   "id": "eb1737e1",
   "metadata": {},
   "outputs": [],
   "source": []
  },
  {
   "cell_type": "code",
   "execution_count": null,
   "id": "1913f1eb",
   "metadata": {},
   "outputs": [],
   "source": []
  },
  {
   "cell_type": "code",
   "execution_count": null,
   "id": "e19de1a3",
   "metadata": {},
   "outputs": [],
   "source": []
  },
  {
   "cell_type": "code",
   "execution_count": null,
   "id": "512c38bd",
   "metadata": {},
   "outputs": [],
   "source": []
  },
  {
   "cell_type": "code",
   "execution_count": null,
   "id": "55768b77",
   "metadata": {},
   "outputs": [],
   "source": []
  },
  {
   "cell_type": "code",
   "execution_count": null,
   "id": "35150252",
   "metadata": {},
   "outputs": [],
   "source": []
  },
  {
   "cell_type": "code",
   "execution_count": null,
   "id": "ba025c78",
   "metadata": {},
   "outputs": [],
   "source": []
  }
 ],
 "metadata": {
  "kernelspec": {
   "display_name": "Python 3 (ipykernel)",
   "language": "python",
   "name": "python3"
  },
  "language_info": {
   "codemirror_mode": {
    "name": "ipython",
    "version": 3
   },
   "file_extension": ".py",
   "mimetype": "text/x-python",
   "name": "python",
   "nbconvert_exporter": "python",
   "pygments_lexer": "ipython3",
   "version": "3.9.13"
  }
 },
 "nbformat": 4,
 "nbformat_minor": 5
}
